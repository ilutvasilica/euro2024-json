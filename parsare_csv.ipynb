{
 "cells": [
  {
   "cell_type": "code",
   "execution_count": 2,
   "metadata": {},
   "outputs": [],
   "source": [
    "import csv \n"
   ]
  },
  {
   "cell_type": "code",
   "execution_count": 3,
   "metadata": {},
   "outputs": [],
   "source": [
    "lista_echipe = [[ 'Grupa A','Romania','Germania','Anglia','Italia'],['Grupa B','Austria','Ungaria','Bulgaria','Macedonia']]\n"
   ]
  },
  {
   "cell_type": "code",
   "execution_count": 4,
   "metadata": {},
   "outputs": [],
   "source": [
    "with open ('echipe.csv','w') as file_handler : \n",
    "    csv_writer =csv.writer(file_handler)\n",
    "    csv_writer.writerow ([ 'Grupa','Echipa1','Echipa2','Echipa3','Echipa4' ])\n",
    "    csv_writer.writerows(lista_echipe)"
   ]
  },
  {
   "cell_type": "code",
   "execution_count": 5,
   "metadata": {},
   "outputs": [
    {
     "name": "stdout",
     "output_type": "stream",
     "text": [
      "[['Grupa', 'Echipa1', 'Echipa2', 'Echipa3', 'Echipa4'], ['Group A', 'Germany', 'Scotland', 'Hungary', 'Switzerland'], ['Group B', 'Spain', 'Croatia', 'Italy', 'Albania'], ['Group C', 'England', 'Denmark', 'Serbia', 'Slovenia'], ['Group D', 'Poland', 'Netherlands', 'Austria', 'France'], ['Group E', 'Belgium', 'Slovakia', 'Romania', 'Ukraine'], ['Group F', 'Turkey', 'Georgia', 'Portugal', 'Czech Republic']]\n"
     ]
    }
   ],
   "source": [
    "with open ('rezultat.csv','r') as file_handler:\n",
    "    csv_reader = csv.reader(file_handler)\n",
    "    randuri =  [row for row in csv_reader ]\n",
    "  \n",
    "print(randuri)\n",
    "        "
   ]
  }
 ],
 "metadata": {
  "kernelspec": {
   "display_name": "Python 3",
   "language": "python",
   "name": "python3"
  },
  "language_info": {
   "codemirror_mode": {
    "name": "ipython",
    "version": 3
   },
   "file_extension": ".py",
   "mimetype": "text/x-python",
   "name": "python",
   "nbconvert_exporter": "python",
   "pygments_lexer": "ipython3",
   "version": "3.13.2"
  }
 },
 "nbformat": 4,
 "nbformat_minor": 2
}
