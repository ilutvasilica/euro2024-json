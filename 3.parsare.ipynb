{
 "cells": [
  {
   "cell_type": "code",
   "execution_count": 1,
   "metadata": {},
   "outputs": [
    {
     "name": "stdout",
     "output_type": "stream",
     "text": [
      "10\n"
     ]
    }
   ],
   "source": [
    "x= 10\n",
    "print(x)"
   ]
  },
  {
   "cell_type": "code",
   "execution_count": 2,
   "metadata": {},
   "outputs": [
    {
     "name": "stdout",
     "output_type": "stream",
     "text": [
      "109\n"
     ]
    }
   ],
   "source": [
    "y= 109\n",
    "print(y)"
   ]
  },
  {
   "cell_type": "code",
   "execution_count": 3,
   "metadata": {},
   "outputs": [
    {
     "data": {
      "text/plain": [
       "[1, 2, 3]"
      ]
     },
     "execution_count": 3,
     "metadata": {},
     "output_type": "execute_result"
    }
   ],
   "source": [
    "x = [1,2,3]\n",
    "x"
   ]
  },
  {
   "cell_type": "code",
   "execution_count": 4,
   "metadata": {},
   "outputs": [],
   "source": [
    "x.append(3)"
   ]
  },
  {
   "cell_type": "code",
   "execution_count": 5,
   "metadata": {},
   "outputs": [],
   "source": [
    "import json\n",
    "from pprint import pprint"
   ]
  },
  {
   "cell_type": "code",
   "execution_count": 7,
   "metadata": {},
   "outputs": [
    {
     "name": "stdout",
     "output_type": "stream",
     "text": [
      "<class 'dict'> {'name': 'Euro 2024', 'groups': [{'name': 'Group A', 'teams': [{'name': 'Germany', 'code': 'GER'}, {'name': 'Scotland', 'code': 'SCO'}, {'name': 'Hungary', 'code': 'HUN'}, {'name': 'Switzerland', 'code': 'SUI'}]}, {'name': 'Group B', 'teams': [{'name': 'Spain', 'code': 'ESP'}, {'name': 'Croatia', 'code': 'CRO'}, {'name': 'Italy', 'code': 'ITA'}, {'name': 'Albania', 'code': 'ALB'}]}, {'name': 'Group C', 'teams': [{'name': 'England', 'code': 'ENG'}, {'name': 'Denmark', 'code': 'DEN'}, {'name': 'Serbia', 'code': 'SRB'}, {'name': 'Slovenia', 'code': 'SVN'}]}, {'name': 'Group D', 'teams': [{'name': 'Poland', 'code': 'POL'}, {'name': 'Netherlands', 'code': 'NED'}, {'name': 'Austria', 'code': 'AUT'}, {'name': 'France', 'code': 'FRA'}]}, {'name': 'Group E', 'teams': [{'name': 'Belgium', 'code': 'BEL'}, {'name': 'Slovakia', 'code': 'SVK'}, {'name': 'Romania', 'code': 'ROU'}, {'name': 'Ukraine', 'code': 'UKR'}]}, {'name': 'Group F', 'teams': [{'name': 'Turkey', 'code': 'TUR'}, {'name': 'Georgia', 'code': 'GEO'}, {'name': 'Portugal', 'code': 'POR'}, {'name': 'Czech Republic', 'code': 'CZE'}]}]}\n",
      "{'groups': [{'name': 'Group A',\n",
      "             'teams': [{'code': 'GER', 'name': 'Germany'},\n",
      "                       {'code': 'SCO', 'name': 'Scotland'},\n",
      "                       {'code': 'HUN', 'name': 'Hungary'},\n",
      "                       {'code': 'SUI', 'name': 'Switzerland'}]},\n",
      "            {'name': 'Group B',\n",
      "             'teams': [{'code': 'ESP', 'name': 'Spain'},\n",
      "                       {'code': 'CRO', 'name': 'Croatia'},\n",
      "                       {'code': 'ITA', 'name': 'Italy'},\n",
      "                       {'code': 'ALB', 'name': 'Albania'}]},\n",
      "            {'name': 'Group C',\n",
      "             'teams': [{'code': 'ENG', 'name': 'England'},\n",
      "                       {'code': 'DEN', 'name': 'Denmark'},\n",
      "                       {'code': 'SRB', 'name': 'Serbia'},\n",
      "                       {'code': 'SVN', 'name': 'Slovenia'}]},\n",
      "            {'name': 'Group D',\n",
      "             'teams': [{'code': 'POL', 'name': 'Poland'},\n",
      "                       {'code': 'NED', 'name': 'Netherlands'},\n",
      "                       {'code': 'AUT', 'name': 'Austria'},\n",
      "                       {'code': 'FRA', 'name': 'France'}]},\n",
      "            {'name': 'Group E',\n",
      "             'teams': [{'code': 'BEL', 'name': 'Belgium'},\n",
      "                       {'code': 'SVK', 'name': 'Slovakia'},\n",
      "                       {'code': 'ROU', 'name': 'Romania'},\n",
      "                       {'code': 'UKR', 'name': 'Ukraine'}]},\n",
      "            {'name': 'Group F',\n",
      "             'teams': [{'code': 'TUR', 'name': 'Turkey'},\n",
      "                       {'code': 'GEO', 'name': 'Georgia'},\n",
      "                       {'code': 'POR', 'name': 'Portugal'},\n",
      "                       {'code': 'CZE', 'name': 'Czech Republic'}]}],\n",
      " 'name': 'Euro 2024'}\n"
     ]
    }
   ],
   "source": [
    "with open ('euro_2024.json')as file_handler:\n",
    "    continut_parsat = json.load(file_handler)    \n",
    "    print(type(continut_parsat),continut_parsat)\n",
    "    pprint(continut_parsat)\n",
    "    "
   ]
  },
  {
   "cell_type": "code",
   "execution_count": 8,
   "metadata": {},
   "outputs": [
    {
     "name": "stdout",
     "output_type": "stream",
     "text": [
      "dict_keys(['name', 'groups'])\n"
     ]
    }
   ],
   "source": [
    "print(continut_parsat.keys())"
   ]
  },
  {
   "cell_type": "code",
   "execution_count": 13,
   "metadata": {},
   "outputs": [],
   "source": [
    "tara_cautata ='Romania'"
   ]
  },
  {
   "cell_type": "code",
   "execution_count": 11,
   "metadata": {},
   "outputs": [
    {
     "name": "stdout",
     "output_type": "stream",
     "text": [
      "<class 'list'>\n",
      "[{'name': 'Group A',\n",
      "  'teams': [{'code': 'GER', 'name': 'Germany'},\n",
      "            {'code': 'SCO', 'name': 'Scotland'},\n",
      "            {'code': 'HUN', 'name': 'Hungary'},\n",
      "            {'code': 'SUI', 'name': 'Switzerland'}]},\n",
      " {'name': 'Group B',\n",
      "  'teams': [{'code': 'ESP', 'name': 'Spain'},\n",
      "            {'code': 'CRO', 'name': 'Croatia'},\n",
      "            {'code': 'ITA', 'name': 'Italy'},\n",
      "            {'code': 'ALB', 'name': 'Albania'}]},\n",
      " {'name': 'Group C',\n",
      "  'teams': [{'code': 'ENG', 'name': 'England'},\n",
      "            {'code': 'DEN', 'name': 'Denmark'},\n",
      "            {'code': 'SRB', 'name': 'Serbia'},\n",
      "            {'code': 'SVN', 'name': 'Slovenia'}]},\n",
      " {'name': 'Group D',\n",
      "  'teams': [{'code': 'POL', 'name': 'Poland'},\n",
      "            {'code': 'NED', 'name': 'Netherlands'},\n",
      "            {'code': 'AUT', 'name': 'Austria'},\n",
      "            {'code': 'FRA', 'name': 'France'}]},\n",
      " {'name': 'Group E',\n",
      "  'teams': [{'code': 'BEL', 'name': 'Belgium'},\n",
      "            {'code': 'SVK', 'name': 'Slovakia'},\n",
      "            {'code': 'ROU', 'name': 'Romania'},\n",
      "            {'code': 'UKR', 'name': 'Ukraine'}]},\n",
      " {'name': 'Group F',\n",
      "  'teams': [{'code': 'TUR', 'name': 'Turkey'},\n",
      "            {'code': 'GEO', 'name': 'Georgia'},\n",
      "            {'code': 'POR', 'name': 'Portugal'},\n",
      "            {'code': 'CZE', 'name': 'Czech Republic'}]}]\n"
     ]
    }
   ],
   "source": [
    "groups = continut_parsat['groups']\n",
    "print(type(groups))\n",
    "pprint(groups)"
   ]
  },
  {
   "cell_type": "code",
   "execution_count": 14,
   "metadata": {},
   "outputs": [
    {
     "name": "stdout",
     "output_type": "stream",
     "text": [
      "<class 'dict'>\n",
      "[{'code': 'GER', 'name': 'Germany'},\n",
      " {'code': 'SCO', 'name': 'Scotland'},\n",
      " {'code': 'HUN', 'name': 'Hungary'},\n",
      " {'code': 'SUI', 'name': 'Switzerland'}]\n",
      "<class 'dict'>\n",
      "{'code': 'GER', 'name': 'Germany'}\n",
      "<class 'dict'>\n",
      "{'code': 'SCO', 'name': 'Scotland'}\n",
      "<class 'dict'>\n",
      "{'code': 'HUN', 'name': 'Hungary'}\n",
      "<class 'dict'>\n",
      "{'code': 'SUI', 'name': 'Switzerland'}\n",
      "<class 'dict'>\n",
      "[{'code': 'ESP', 'name': 'Spain'},\n",
      " {'code': 'CRO', 'name': 'Croatia'},\n",
      " {'code': 'ITA', 'name': 'Italy'},\n",
      " {'code': 'ALB', 'name': 'Albania'}]\n",
      "<class 'dict'>\n",
      "{'code': 'ESP', 'name': 'Spain'}\n",
      "<class 'dict'>\n",
      "{'code': 'CRO', 'name': 'Croatia'}\n",
      "<class 'dict'>\n",
      "{'code': 'ITA', 'name': 'Italy'}\n",
      "<class 'dict'>\n",
      "{'code': 'ALB', 'name': 'Albania'}\n",
      "<class 'dict'>\n",
      "[{'code': 'ENG', 'name': 'England'},\n",
      " {'code': 'DEN', 'name': 'Denmark'},\n",
      " {'code': 'SRB', 'name': 'Serbia'},\n",
      " {'code': 'SVN', 'name': 'Slovenia'}]\n",
      "<class 'dict'>\n",
      "{'code': 'ENG', 'name': 'England'}\n",
      "<class 'dict'>\n",
      "{'code': 'DEN', 'name': 'Denmark'}\n",
      "<class 'dict'>\n",
      "{'code': 'SRB', 'name': 'Serbia'}\n",
      "<class 'dict'>\n",
      "{'code': 'SVN', 'name': 'Slovenia'}\n",
      "<class 'dict'>\n",
      "[{'code': 'POL', 'name': 'Poland'},\n",
      " {'code': 'NED', 'name': 'Netherlands'},\n",
      " {'code': 'AUT', 'name': 'Austria'},\n",
      " {'code': 'FRA', 'name': 'France'}]\n",
      "<class 'dict'>\n",
      "{'code': 'POL', 'name': 'Poland'}\n",
      "<class 'dict'>\n",
      "{'code': 'NED', 'name': 'Netherlands'}\n",
      "<class 'dict'>\n",
      "{'code': 'AUT', 'name': 'Austria'}\n",
      "<class 'dict'>\n",
      "{'code': 'FRA', 'name': 'France'}\n",
      "<class 'dict'>\n",
      "[{'code': 'BEL', 'name': 'Belgium'},\n",
      " {'code': 'SVK', 'name': 'Slovakia'},\n",
      " {'code': 'ROU', 'name': 'Romania'},\n",
      " {'code': 'UKR', 'name': 'Ukraine'}]\n",
      "<class 'dict'>\n",
      "{'code': 'BEL', 'name': 'Belgium'}\n",
      "<class 'dict'>\n",
      "{'code': 'SVK', 'name': 'Slovakia'}\n",
      "<class 'dict'>\n",
      "{'code': 'ROU', 'name': 'Romania'}\n",
      "Romania se afla in grupa Group E\n",
      "<class 'dict'>\n",
      "[{'code': 'TUR', 'name': 'Turkey'},\n",
      " {'code': 'GEO', 'name': 'Georgia'},\n",
      " {'code': 'POR', 'name': 'Portugal'},\n",
      " {'code': 'CZE', 'name': 'Czech Republic'}]\n",
      "<class 'dict'>\n",
      "{'code': 'TUR', 'name': 'Turkey'}\n",
      "<class 'dict'>\n",
      "{'code': 'GEO', 'name': 'Georgia'}\n",
      "<class 'dict'>\n",
      "{'code': 'POR', 'name': 'Portugal'}\n",
      "<class 'dict'>\n",
      "{'code': 'CZE', 'name': 'Czech Republic'}\n"
     ]
    }
   ],
   "source": [
    "for gr in groups:\n",
    "    print(type(gr))   \n",
    "    pprint(gr['teams']) \n",
    "    for team in gr['teams']:\n",
    "        print(type(team))\n",
    "        pprint(team)\n",
    "         \n",
    "        if team['name']  == tara_cautata:\n",
    "            print(f'{tara_cautata} se afla in grupa {gr['name']}')\n",
    "            break"
   ]
  }
 ],
 "metadata": {
  "kernelspec": {
   "display_name": "Python 3",
   "language": "python",
   "name": "python3"
  },
  "language_info": {
   "codemirror_mode": {
    "name": "ipython",
    "version": 3
   },
   "file_extension": ".py",
   "mimetype": "text/x-python",
   "name": "python",
   "nbconvert_exporter": "python",
   "pygments_lexer": "ipython3",
   "version": "3.13.2"
  }
 },
 "nbformat": 4,
 "nbformat_minor": 2
}
