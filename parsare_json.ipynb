{
 "cells": [
  {
   "cell_type": "code",
   "execution_count": null,
   "metadata": {},
   "outputs": [],
   "source": [
    "#Grupa,Team1,Team2,Team3,Team4\n",
    "#Group A,Hungary,Switzerland,Germany,Scotland\n",
    "#Group B,Spain,Italy,Croatia,Albania\n",
    "#Group C,Denmark,England,Slovenia,Serbia\n",
    "#Group D,France,Austria,Poland,Netherlands\n",
    "#Group E,Romania,Ukraine,Slovakia,Belgium\n",
    "#Group F,Czech Republic,Portugal,Turkey,Georgia"
   ]
  },
  {
   "cell_type": "code",
   "execution_count": 1,
   "metadata": {},
   "outputs": [],
   "source": [
    "import json\n",
    "from pprint import pprint"
   ]
  },
  {
   "cell_type": "code",
   "execution_count": 3,
   "metadata": {},
   "outputs": [
    {
     "name": "stdout",
     "output_type": "stream",
     "text": [
      "<class 'dict'>\n",
      "{'groups': [{'name': 'Group A',\n",
      "             'teams': [{'code': 'GER', 'name': 'Germany'},\n",
      "                       {'code': 'SCO', 'name': 'Scotland'},\n",
      "                       {'code': 'HUN', 'name': 'Hungary'},\n",
      "                       {'code': 'SUI', 'name': 'Switzerland'}]},\n",
      "            {'name': 'Group B',\n",
      "             'teams': [{'code': 'ESP', 'name': 'Spain'},\n",
      "                       {'code': 'CRO', 'name': 'Croatia'},\n",
      "                       {'code': 'ITA', 'name': 'Italy'},\n",
      "                       {'code': 'ALB', 'name': 'Albania'}]},\n",
      "            {'name': 'Group C',\n",
      "             'teams': [{'code': 'ENG', 'name': 'England'},\n",
      "                       {'code': 'DEN', 'name': 'Denmark'},\n",
      "                       {'code': 'SRB', 'name': 'Serbia'},\n",
      "                       {'code': 'SVN', 'name': 'Slovenia'}]},\n",
      "            {'name': 'Group D',\n",
      "             'teams': [{'code': 'POL', 'name': 'Poland'},\n",
      "                       {'code': 'NED', 'name': 'Netherlands'},\n",
      "                       {'code': 'AUT', 'name': 'Austria'},\n",
      "                       {'code': 'FRA', 'name': 'France'}]},\n",
      "            {'name': 'Group E',\n",
      "             'teams': [{'code': 'BEL', 'name': 'Belgium'},\n",
      "                       {'code': 'SVK', 'name': 'Slovakia'},\n",
      "                       {'code': 'ROU', 'name': 'Romania'},\n",
      "                       {'code': 'UKR', 'name': 'Ukraine'}]},\n",
      "            {'name': 'Group F',\n",
      "             'teams': [{'code': 'TUR', 'name': 'Turkey'},\n",
      "                       {'code': 'GEO', 'name': 'Georgia'},\n",
      "                       {'code': 'POR', 'name': 'Portugal'},\n",
      "                       {'code': 'CZE', 'name': 'Czech Republic'}]}],\n",
      " 'name': 'Euro 2024'}\n"
     ]
    }
   ],
   "source": [
    "with open ('euro_2024.json')as file_handler:\n",
    "    continut_parsat = json.load(file_handler)    \n",
    "    print(type(continut_parsat))\n",
    "    pprint(continut_parsat)\n",
    "    "
   ]
  },
  {
   "cell_type": "code",
   "execution_count": 6,
   "metadata": {},
   "outputs": [
    {
     "name": "stdout",
     "output_type": "stream",
     "text": [
      "[{'name': 'Group A',\n",
      "  'teams': [{'code': 'GER', 'name': 'Germany'},\n",
      "            {'code': 'SCO', 'name': 'Scotland'},\n",
      "            {'code': 'HUN', 'name': 'Hungary'},\n",
      "            {'code': 'SUI', 'name': 'Switzerland'}]},\n",
      " {'name': 'Group B',\n",
      "  'teams': [{'code': 'ESP', 'name': 'Spain'},\n",
      "            {'code': 'CRO', 'name': 'Croatia'},\n",
      "            {'code': 'ITA', 'name': 'Italy'},\n",
      "            {'code': 'ALB', 'name': 'Albania'}]},\n",
      " {'name': 'Group C',\n",
      "  'teams': [{'code': 'ENG', 'name': 'England'},\n",
      "            {'code': 'DEN', 'name': 'Denmark'},\n",
      "            {'code': 'SRB', 'name': 'Serbia'},\n",
      "            {'code': 'SVN', 'name': 'Slovenia'}]},\n",
      " {'name': 'Group D',\n",
      "  'teams': [{'code': 'POL', 'name': 'Poland'},\n",
      "            {'code': 'NED', 'name': 'Netherlands'},\n",
      "            {'code': 'AUT', 'name': 'Austria'},\n",
      "            {'code': 'FRA', 'name': 'France'}]},\n",
      " {'name': 'Group E',\n",
      "  'teams': [{'code': 'BEL', 'name': 'Belgium'},\n",
      "            {'code': 'SVK', 'name': 'Slovakia'},\n",
      "            {'code': 'ROU', 'name': 'Romania'},\n",
      "            {'code': 'UKR', 'name': 'Ukraine'}]},\n",
      " {'name': 'Group F',\n",
      "  'teams': [{'code': 'TUR', 'name': 'Turkey'},\n",
      "            {'code': 'GEO', 'name': 'Georgia'},\n",
      "            {'code': 'POR', 'name': 'Portugal'},\n",
      "            {'code': 'CZE', 'name': 'Czech Republic'}]}]\n"
     ]
    }
   ],
   "source": [
    "grupe = continut_parsat['groups']\n",
    "pprint(grupe)"
   ]
  },
  {
   "cell_type": "code",
   "execution_count": 7,
   "metadata": {},
   "outputs": [
    {
     "name": "stdout",
     "output_type": "stream",
     "text": [
      "Group A\n",
      "Group B\n",
      "Group C\n",
      "Group D\n",
      "Group E\n",
      "Group F\n"
     ]
    }
   ],
   "source": [
    "for gr in grupe:\n",
    "   print(  gr ['name'])"
   ]
  },
  {
   "cell_type": "code",
   "execution_count": 12,
   "metadata": {},
   "outputs": [
    {
     "name": "stdout",
     "output_type": "stream",
     "text": [
      "Group A\n",
      "Germany\n",
      "Scotland\n",
      "Hungary\n",
      "Switzerland\n",
      "Group B\n",
      "Spain\n",
      "Croatia\n",
      "Italy\n",
      "Albania\n",
      "Group C\n",
      "England\n",
      "Denmark\n",
      "Serbia\n",
      "Slovenia\n",
      "Group D\n",
      "Poland\n",
      "Netherlands\n",
      "Austria\n",
      "France\n",
      "Group E\n",
      "Belgium\n",
      "Slovakia\n",
      "Romania\n",
      "Ukraine\n",
      "Group F\n",
      "Turkey\n",
      "Georgia\n",
      "Portugal\n",
      "Czech Republic\n"
     ]
    }
   ],
   "source": [
    "for gr in grupe:\n",
    "    print(gr['name'])\n",
    "    for team in gr['teams']:\n",
    "        print(team['name'])\n",
    "    "
   ]
  },
  {
   "cell_type": "code",
   "execution_count": 13,
   "metadata": {},
   "outputs": [
    {
     "name": "stdout",
     "output_type": "stream",
     "text": [
      "[['Group A', 'Germany', 'Scotland', 'Hungary', 'Switzerland'], ['Group B', 'Spain', 'Croatia', 'Italy', 'Albania'], ['Group C', 'England', 'Denmark', 'Serbia', 'Slovenia'], ['Group D', 'Poland', 'Netherlands', 'Austria', 'France'], ['Group E', 'Belgium', 'Slovakia', 'Romania', 'Ukraine'], ['Group F', 'Turkey', 'Georgia', 'Portugal', 'Czech Republic']]\n"
     ]
    }
   ],
   "source": [
    "euro = []\n",
    "\n",
    "for gr in grupe:\n",
    "    euro_groups= []\n",
    "    euro_groups.append(gr['name'])\n",
    "\n",
    "    for team in gr['teams']:\n",
    "        euro_groups.append(team['name'])\n",
    "        \n",
    "    euro.append(euro_groups)    \n",
    "    \n",
    "print(euro)    "
   ]
  },
  {
   "cell_type": "code",
   "execution_count": 24,
   "metadata": {},
   "outputs": [],
   "source": [
    "with open ('rezultat.csv','w') as file_handler:\n",
    "    file_handler.write('Grupa,Echipa1,Echipa2,Echipa3,Echipa4')\n",
    "    for grupa in euro:\n",
    "        for item in grupa: \n",
    "            if grupa.index(item) == 0:\n",
    "                file_handler.write(item)\n",
    "            else:\n",
    "                \n",
    "               file_handler.write(',' + item )\n",
    "        file_handler.write('\\n')     "
   ]
  },
  {
   "cell_type": "markdown",
   "metadata": {},
   "source": []
  }
 ],
 "metadata": {
  "kernelspec": {
   "display_name": "Python 3",
   "language": "python",
   "name": "python3"
  },
  "language_info": {
   "codemirror_mode": {
    "name": "ipython",
    "version": 3
   },
   "file_extension": ".py",
   "mimetype": "text/x-python",
   "name": "python",
   "nbconvert_exporter": "python",
   "pygments_lexer": "ipython3",
   "version": "3.13.2"
  }
 },
 "nbformat": 4,
 "nbformat_minor": 2
}
